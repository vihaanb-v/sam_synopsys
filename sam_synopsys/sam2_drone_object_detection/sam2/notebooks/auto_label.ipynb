{
 "cells": [
  {
   "cell_type": "code",
   "execution_count": 1,
   "metadata": {},
   "outputs": [
    {
     "name": "stdout",
     "output_type": "stream",
     "text": [
      "\n"
     ]
    },
    {
     "name": "stderr",
     "output_type": "stream",
     "text": [
      "/home/ubuntu/miniconda3/envs/sam2-env/lib/python3.11/site-packages/torch/cuda/__init__.py:129: UserWarning: CUDA initialization: The NVIDIA driver on your system is too old (found version 11040). Please update your GPU driver by downloading and installing a new version from the URL: http://www.nvidia.com/Download/index.aspx Alternatively, go to: https://pytorch.org to install a PyTorch version that has been compiled with your version of the CUDA driver. (Triggered internally at /pytorch/c10/cuda/CUDAFunctions.cpp:109.)\n",
      "  return torch._C._cuda_getDeviceCount() > 0\n"
     ]
    },
    {
     "name": "stdout",
     "output_type": "stream",
     "text": [
      "image 1/10 /home/ubuntu/vihaan-devel/sam_synopsys/sam2_drone_object_detection/sam2/generated_imgs/fifth_10_sample/generated_image_40.png: 640x640 16 0s, 1 1, 6 3s, 1 4, 27 5s, 54.2ms\n",
      "image 2/10 /home/ubuntu/vihaan-devel/sam_synopsys/sam2_drone_object_detection/sam2/generated_imgs/fifth_10_sample/generated_image_41.png: 640x640 10 0s, 7 3s, 12 5s, 34.0ms\n",
      "image 3/10 /home/ubuntu/vihaan-devel/sam_synopsys/sam2_drone_object_detection/sam2/generated_imgs/fifth_10_sample/generated_image_42.png: 640x640 23 0s, 7 3s, 40 5s, 35.7ms\n",
      "image 4/10 /home/ubuntu/vihaan-devel/sam_synopsys/sam2_drone_object_detection/sam2/generated_imgs/fifth_10_sample/generated_image_43.png: 640x640 28 0s, 7 3s, 46 5s, 33.6ms\n",
      "image 5/10 /home/ubuntu/vihaan-devel/sam_synopsys/sam2_drone_object_detection/sam2/generated_imgs/fifth_10_sample/generated_image_44.png: 640x640 26 0s, 6 3s, 48 5s, 35.0ms\n",
      "image 6/10 /home/ubuntu/vihaan-devel/sam_synopsys/sam2_drone_object_detection/sam2/generated_imgs/fifth_10_sample/generated_image_45.png: 640x640 17 0s, 1 3, 33 5s, 35.0ms\n",
      "image 7/10 /home/ubuntu/vihaan-devel/sam_synopsys/sam2_drone_object_detection/sam2/generated_imgs/fifth_10_sample/generated_image_46.png: 640x640 18 0s, 1 1, 1 2, 5 3s, 1 4, 32 5s, 36.1ms\n",
      "image 8/10 /home/ubuntu/vihaan-devel/sam_synopsys/sam2_drone_object_detection/sam2/generated_imgs/fifth_10_sample/generated_image_47.png: 640x640 18 0s, 5 3s, 1 4, 37 5s, 34.8ms\n",
      "image 9/10 /home/ubuntu/vihaan-devel/sam_synopsys/sam2_drone_object_detection/sam2/generated_imgs/fifth_10_sample/generated_image_48.png: 640x640 24 0s, 4 3s, 1 4, 30 5s, 35.5ms\n",
      "image 10/10 /home/ubuntu/vihaan-devel/sam_synopsys/sam2_drone_object_detection/sam2/generated_imgs/fifth_10_sample/generated_image_49.png: 640x640 15 0s, 2 1s, 1 3, 29 5s, 35.5ms\n",
      "Speed: 1.6ms preprocess, 36.9ms inference, 0.7ms postprocess per image at shape (1, 3, 640, 640)\n"
     ]
    }
   ],
   "source": [
    "from ultralytics.data.annotator import auto_annotate\n",
    "\n",
    "auto_annotate(data=\"/home/ubuntu/vihaan-devel/sam_synopsys/sam2_drone_object_detection/sam2/generated_imgs/fifth_10_sample\", det_model=\"/home/ubuntu/vihaan-devel/sam_synopsys/yolov11/runs/detect/train14/weights/best.pt\", sam_model=\"/home/ubuntu/vihaan-devel/sam_synopsys/sam2_drone_object_detection/sam2/checkpoints/sam2_b.pt\")"
   ]
  }
 ],
 "metadata": {
  "kernelspec": {
   "display_name": "sam2-env",
   "language": "python",
   "name": "python3"
  },
  "language_info": {
   "codemirror_mode": {
    "name": "ipython",
    "version": 3
   },
   "file_extension": ".py",
   "mimetype": "text/x-python",
   "name": "python",
   "nbconvert_exporter": "python",
   "pygments_lexer": "ipython3",
   "version": "3.11.11"
  }
 },
 "nbformat": 4,
 "nbformat_minor": 2
}
